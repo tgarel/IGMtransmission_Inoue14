{
 "cells": [
  {
   "cell_type": "code",
   "execution_count": 6,
   "id": "91e909fe-a466-4ff6-aabd-086a1fb89461",
   "metadata": {},
   "outputs": [],
   "source": [
    "from anaigm_inoue14 import read_inoue14_IGMcoeff, tLSDLA, tLSLAF, tLCDLA, tLCLAF, igm_transmission_inoue\n",
    "import numpy as np"
   ]
  },
  {
   "cell_type": "markdown",
   "id": "7774bdef-f1ac-4695-8313-bb5515a21937",
   "metadata": {},
   "source": [
    "## Read IGM transmission curves from z=1 to 7 ('test' file from ANAigm original version)"
   ]
  },
  {
   "cell_type": "code",
   "execution_count": 7,
   "id": "abf1274d-4354-4514-8f3e-ea6107203a77",
   "metadata": {},
   "outputs": [],
   "source": [
    "inputpath='/Users/thibaultgarel/Work/UVEX/predictions/IGM_transmission/ANAIGM_Jul13_2020/'\n",
    "lam1, ALAF, ADLA = read_inoue14_IGMcoeff(inputpath)"
   ]
  },
  {
   "cell_type": "markdown",
   "id": "b4d729ee-1906-48f6-a5a0-ec9c2e97b698",
   "metadata": {},
   "source": [
    "### Compute IGM transmission at lambda_obs for source at zsource"
   ]
  },
  {
   "cell_type": "code",
   "execution_count": 8,
   "id": "6bc4cf83-9a47-43c2-a585-e3ebc7742cb3",
   "metadata": {},
   "outputs": [
    {
     "name": "stdout",
     "output_type": "stream",
     "text": [
      "Tigm = 0.5216656326363304\n"
     ]
    }
   ],
   "source": [
    "# zsource = 2.5\n",
    "# lambda_obs = 3000 A\n",
    "tigm = igm_transmission_inoue(2.5, 3000., lam1, ALAF, ADLA)\n",
    "print('Tigm =' , tigm)"
   ]
  },
  {
   "cell_type": "code",
   "execution_count": null,
   "id": "20590355-1c83-4706-a9b0-8f04e427a729",
   "metadata": {},
   "outputs": [],
   "source": []
  }
 ],
 "metadata": {
  "kernelspec": {
   "display_name": "Python 3 (ipykernel)",
   "language": "python",
   "name": "python3"
  },
  "language_info": {
   "codemirror_mode": {
    "name": "ipython",
    "version": 3
   },
   "file_extension": ".py",
   "mimetype": "text/x-python",
   "name": "python",
   "nbconvert_exporter": "python",
   "pygments_lexer": "ipython3",
   "version": "3.9.19"
  }
 },
 "nbformat": 4,
 "nbformat_minor": 5
}
